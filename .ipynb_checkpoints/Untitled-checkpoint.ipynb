{
 "cells": [
  {
   "cell_type": "code",
   "execution_count": 4,
   "metadata": {},
   "outputs": [],
   "source": [
    "from torch.utils import data\n",
    "from imageio import imread\n",
    "import numpy as np"
   ]
  },
  {
   "cell_type": "code",
   "execution_count": 6,
   "metadata": {},
   "outputs": [],
   "source": [
    "class ImageDataset(data.Dataset):\n",
    "    \n",
    "    def __init__(self,filenames,labels,tfms=None):\n",
    "        self.filenames=filenames\n",
    "        self.labels=labels\n",
    "        self.transforms=tfms\n",
    "    \n",
    "    def __len__(self):\n",
    "        return len(self.filenames)\n",
    "    \n",
    "    def __getitem__(self,index):\n",
    "        file = self.filenames[index]\n",
    "        sample = read(file)\n",
    "        ratio = np.asarray([224/490,224/326])\n",
    "        if self.transforms:\n",
    "            sample = self.transforms(sample)\n",
    "#             self.labels = self.labels*ratio\n",
    "#         sample = sample.permute(2,1,0)\n",
    "        y = self.labels[index]\n",
    "        return sample,y"
   ]
  },
  {
   "cell_type": "code",
   "execution_count": 8,
   "metadata": {},
   "outputs": [],
   "source": [
    "class ImageDataset_hflip(data.Dataset):\n",
    "    \n",
    "    def __init__(self,filenames,labels,tfms=None):\n",
    "        self.filenames=filenames\n",
    "        self.labels=labels\n",
    "        self.transforms=tfms\n",
    "    \n",
    "    def __len__(self):\n",
    "        return len(self.filenames)\n",
    "    \n",
    "    def __getitem__(self,index):\n",
    "        file = self.filenames[index]\n",
    "        sample = imread(file)\n",
    "        sample = sample[:, ::-1, :] #Horizontal flip\n",
    "        if self.transforms:\n",
    "            sample = self.transforms(sample)\n",
    "        \n",
    "        label=self.labels[index]\n",
    "        y = np.asarray([1-label[0],label[1]])\n",
    "        return sample,y"
   ]
  },
  {
   "cell_type": "code",
   "execution_count": 9,
   "metadata": {},
   "outputs": [],
   "source": [
    "class ImageDataset_vflip(data.Dataset):\n",
    "    \n",
    "    def __init__(self,filenames,labels,tfms=None):\n",
    "        self.filenames=filenames\n",
    "        self.labels=labels\n",
    "        self.transforms=tfms\n",
    "    \n",
    "    def __len__(self):\n",
    "        return len(self.filenames)\n",
    "    \n",
    "    def __getitem__(self,index):\n",
    "        file = self.filenames[index]\n",
    "        sample = imread(file)\n",
    "        sample = sample[::-1, :, :] #Vertical flip\n",
    "        if self.transforms:\n",
    "            sample = self.transforms(sample)\n",
    "        \n",
    "        label=self.labels[index]\n",
    "        y = np.asarray([label[0],1-label[1]])\n",
    "        return sample,y"
   ]
  },
  {
   "cell_type": "code",
   "execution_count": null,
   "metadata": {},
   "outputs": [],
   "source": []
  }
 ],
 "metadata": {
  "kernelspec": {
   "display_name": "Python 3",
   "language": "python",
   "name": "python3"
  },
  "language_info": {
   "codemirror_mode": {
    "name": "ipython",
    "version": 3
   },
   "file_extension": ".py",
   "mimetype": "text/x-python",
   "name": "python",
   "nbconvert_exporter": "python",
   "pygments_lexer": "ipython3",
   "version": "3.6.3"
  }
 },
 "nbformat": 4,
 "nbformat_minor": 2
}
